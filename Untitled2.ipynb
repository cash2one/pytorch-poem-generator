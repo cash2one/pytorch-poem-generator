{
 "cells": [
  {
   "cell_type": "code",
   "execution_count": 1,
   "metadata": {
    "collapsed": true
   },
   "outputs": [],
   "source": [
    "import numpy as np\n",
    "import random\n",
    "import os"
   ]
  },
  {
   "cell_type": "code",
   "execution_count": 2,
   "metadata": {
    "collapsed": true
   },
   "outputs": [],
   "source": [
    "import torch\n",
    "import torch.nn as nn\n",
    "from torch.autograd import Variable\n",
    "from torch import optim\n",
    "import torch.nn.functional as F"
   ]
  },
  {
   "cell_type": "code",
   "execution_count": 3,
   "metadata": {
    "collapsed": true
   },
   "outputs": [],
   "source": [
    "use_cuda = torch.cuda.is_available()"
   ]
  },
  {
   "cell_type": "code",
   "execution_count": 4,
   "metadata": {
    "collapsed": true
   },
   "outputs": [],
   "source": [
    "class Config(object):\n",
    "    \"\"\"RNNLM模型配置项\"\"\"\n",
    "    embedding_dim = 256  # 词向量维度\n",
    "\n",
    "    rnn_type = 'LSTM'  # 支持RNN/LSTM/GRU\n",
    "    hidden_dim = 256  # 隐藏层维度\n",
    "    num_layers = 1  # RNN 层数\n",
    "\n",
    "    dropout = 0.5  # 丢弃概率\n",
    "    tie_weights = False  # 是否绑定参数\n",
    "\n",
    "    clip = 0.25  # 用于梯度规范化\n",
    "    learning_rate = 0.01  # 初始学习率\n",
    "\n",
    "    log_interval = 500  # 每隔多少个批次输出一次状态\n",
    "    save_interval = 3  # 每个多少个轮次保存一次参数"
   ]
  },
  {
   "cell_type": "code",
   "execution_count": 5,
   "metadata": {
    "collapsed": true
   },
   "outputs": [],
   "source": [
    "class RNNLM(nn.Module):\n",
    "    \"\"\"基于RNN的语言模型，包含一个encoder，一个rnn模块，一个decoder。\"\"\"\n",
    "\n",
    "    def __init__(self, config):\n",
    "        super(RNNLM, self).__init__()\n",
    "\n",
    "        v_size = config.vocab_size\n",
    "        em_dim = config.embedding_dim\n",
    "        dropout = config.dropout\n",
    "        \n",
    "        self.rnn_type = rnn_type = config.rnn_type\n",
    "        self.hi_dim = hi_dim = config.hidden_dim\n",
    "        self.n_layers = n_layers = config.num_layers\n",
    "\n",
    "        # self.drop = nn.Dropout(dropout)\n",
    "        self.encoder = nn.Embedding(v_size, em_dim)\n",
    "\n",
    "        # rnn: RNN / LSTM / GRU\n",
    "        self.rnn = getattr(nn, rnn_type)(em_dim, hi_dim, n_layers)\n",
    "        self.decoder = nn.Linear(hi_dim, v_size)\n",
    "        self.softmax = nn.LogSoftmax(dim=1)\n",
    "\n",
    "        # tie_weights将encoder和decoder的参数绑定为同一参数。\n",
    "        if config.tie_weights:\n",
    "            if hi_dim != em_dim:  # 这两个维度必须相同\n",
    "                raise ValueError('When using the tied flag, hi_dim must be equal to em_dim')\n",
    "            self.decoder.weight = self.encoder.weight\n",
    "\n",
    "        self.init_weights()  # 初始化权重\n",
    "\n",
    "    def forward(self, inputs, hidden):\n",
    "        seq_len = len(inputs)\n",
    "        emb = self.encoder(inputs).view(seq_len, 1, -1)\n",
    "        output, hidden = self.rnn(emb, hidden)\n",
    "        output = F.relu(self.decoder(output.view(seq_len, -1)))\n",
    "        output = self.softmax(output)\n",
    "        return output, hidden  # 复原\n",
    "\n",
    "    def init_weights(self):\n",
    "        \"\"\"权重初始化，如果tie_weights，则encoder和decoder权重是相同的\"\"\"\n",
    "        init_range = 0.1\n",
    "        self.encoder.weight.data.uniform_(-init_range, init_range)\n",
    "        self.decoder.weight.data.uniform_(-init_range, init_range)\n",
    "        self.decoder.bias.data.fill_(0)\n",
    "\n",
    "    def init_hidden(self):\n",
    "        \"\"\"初始化隐藏层\"\"\"\n",
    "        weight = next(self.parameters()).data\n",
    "        if self.rnn_type == 'LSTM':  # lstm：(h0, c0)\n",
    "            return (Variable(weight.new(self.n_layers, 1, self.hi_dim).zero_()),\n",
    "                    Variable(weight.new(self.n_layers, 1, self.hi_dim).zero_()))\n",
    "        else:  # gru 和 rnn：h0\n",
    "            return Variable(weight.new(self.n_layers, 1, self.hi_dim).zero_())"
   ]
  },
  {
   "cell_type": "code",
   "execution_count": 6,
   "metadata": {
    "collapsed": true
   },
   "outputs": [],
   "source": [
    "def open_file(filename, mode='r'):\n",
    "    return open(filename, mode=mode, encoding='utf-8', errors='ignore')\n",
    "\n",
    "class Corpus(object):\n",
    "    \"\"\"\n",
    "    文本预处理，获取词汇表，并将字符串文本转换为数字序列。\n",
    "    \"\"\"\n",
    "\n",
    "    def __init__(self, train_dir, vocab_dir):\n",
    "        assert os.path.exists(train_dir), 'File %s does not exist.' % train_dir\n",
    "        \n",
    "        if not os.path.exists(vocab_dir):\n",
    "            words = list(set(list(open_file(train_dir).read().replace('\\n', ''))))\n",
    "            open_file(vocab_dir, 'w').write('\\n'.join(sorted(words)) + '\\n')\n",
    "        \n",
    "        words = open_file(vocab_dir).read().strip().split('\\n')\n",
    "        words = ['<SOS>', '<EOS>'] + words\n",
    "        word_to_id = dict(zip(words, range(len(words))))\n",
    "        \n",
    "        data = []\n",
    "        with open_file(train_dir) as f:\n",
    "            for line in f:\n",
    "                poem = [word_to_id[x] for x in line.strip() if x in word_to_id]\n",
    "                data.append([0] + poem + [1])\n",
    "        \n",
    "        self.words = words\n",
    "        self.word_to_id = word_to_id\n",
    "        self.data = data\n",
    "\n",
    "    def __repr__(self):\n",
    "        return \"Corpus length: %d, Vocabulary size: %d\" % (len(self.data), len(self.words))"
   ]
  },
  {
   "cell_type": "code",
   "execution_count": 7,
   "metadata": {},
   "outputs": [
    {
     "data": {
      "text/plain": [
       "Corpus length: 51836, Vocabulary size: 7355"
      ]
     },
     "execution_count": 7,
     "metadata": {},
     "output_type": "execute_result"
    }
   ],
   "source": [
    "config = Config()\n",
    "corpus = Corpus('data/poem.tang.txt', 'data/poem.vocab.txt')\n",
    "config.vocab_size = len(corpus.words)\n",
    "corpus"
   ]
  },
  {
   "cell_type": "code",
   "execution_count": 8,
   "metadata": {
    "collapsed": true
   },
   "outputs": [],
   "source": [
    "model = RNNLM(config)\n",
    "if use_cuda:\n",
    "    model.cuda()"
   ]
  },
  {
   "cell_type": "code",
   "execution_count": 9,
   "metadata": {
    "collapsed": true
   },
   "outputs": [],
   "source": [
    "criterion = nn.NLLLoss()"
   ]
  },
  {
   "cell_type": "code",
   "execution_count": 10,
   "metadata": {
    "collapsed": true
   },
   "outputs": [],
   "source": [
    "optimizer = optim.RMSprop(model.parameters(), lr=0.01, weight_decay=0.0001)"
   ]
  },
  {
   "cell_type": "code",
   "execution_count": 11,
   "metadata": {
    "collapsed": true
   },
   "outputs": [],
   "source": [
    "def generate(model, words, word_len=50, temperature=1.0):\n",
    "    \"\"\"生成一定数量的文本，temperature结合多项式分布可增添抽样的多样性。\"\"\"\n",
    "    model.eval()\n",
    "    hidden = model.init_hidden()  # batch_size为1\n",
    "    inputs = Variable(torch.rand(1, 1).mul(len(words)).long(), volatile=True)  # 随机选取一个字作为开始\n",
    "    if use_cuda:\n",
    "        inputs = inputs.cuda()\n",
    "\n",
    "    word_list = []\n",
    "    for i in range(word_len):  # 逐字生成\n",
    "        output, hidden = model(inputs, hidden)\n",
    "        word_weights = output.squeeze().data.div(temperature).exp().cpu()\n",
    "\n",
    "        # 基于词的权重，对其再进行一次抽样，增添其多样性，如果不使用此法，会导致常用字的无限循环\n",
    "        word_idx = torch.multinomial(word_weights, 1)[0]\n",
    "        inputs.data.fill_(word_idx)  # 将新生成的字赋给inputs\n",
    "        word = words[word_idx]\n",
    "        word_list.append(word)\n",
    "    return word_list"
   ]
  },
  {
   "cell_type": "code",
   "execution_count": 12,
   "metadata": {
    "collapsed": true
   },
   "outputs": [],
   "source": [
    "def generate2(model, words, word_len=50, temperature=1.0):\n",
    "    \"\"\"生成一定数量的文本，temperature结合多项式分布可增添抽样的多样性。\"\"\"\n",
    "    model.eval()\n",
    "    hidden = model.init_hidden()  # batch_size为1\n",
    "    #inputs = Variable(torch.rand(1, 1).mul(len(words)).long(), volatile=True)  # 随机选取一个字作为开始\n",
    "    inputs = Variable(torch.LongTensor([0]))\n",
    "    if use_cuda:\n",
    "        inputs = inputs.cuda()\n",
    "\n",
    "    word_list = []\n",
    "    for i in range(word_len):  # 逐字生成\n",
    "        output, hidden = model(inputs, hidden)\n",
    "        topv, topi = output.data.topk(1)\n",
    "        word_idx = topi[0][0]\n",
    "        inputs.data.fill_(word_idx)  # 将新生成的字赋给inputs\n",
    "        word = words[word_idx]\n",
    "        word_list.append(word)\n",
    "    return word_list"
   ]
  },
  {
   "cell_type": "code",
   "execution_count": null,
   "metadata": {
    "scrolled": false
   },
   "outputs": [
    {
     "name": "stdout",
     "output_type": "stream",
     "text": [
      "8.608308715820312\n",
      "8.002685546875\n",
      "<EOS>堂堂，，，，。<EOS>，。<EOS>，，。<EOS>，。时。。<EOS>。<EOS>，。<EOS>。<EOS>。<EOS>，。<EOS>，。<EOS>，。<EOS>。<EOS>。<EOS>，，。<EOS>，。\n",
      "7.96868896484375\n",
      "7.855473022460938\n",
      "今来不事，，，。<EOS>。<EOS>。<EOS>。<EOS>。<EOS>。<EOS>。<EOS>。<EOS>。<EOS>。<EOS>。<EOS>。<EOS>。<EOS>。<EOS>。<EOS>。<EOS>。<EOS>。<EOS>。<EOS>。<EOS>。<EOS>。\n"
     ]
    }
   ],
   "source": [
    "total_loss = 0.0\n",
    "for i in range(50000):\n",
    "    model.train()\n",
    "    rand_data = random.choice(corpus.data)\n",
    "    inputs = Variable(torch.LongTensor(rand_data[:-1]))\n",
    "    targets = Variable(torch.LongTensor(rand_data[1:]))\n",
    "    \n",
    "    if use_cuda:\n",
    "        inputs = inputs.cuda()\n",
    "        targets = targets.cuda()\n",
    "\n",
    "    hidden = model.init_hidden()\n",
    "    outputs, hidden = model(inputs, hidden)\n",
    "    loss = criterion(outputs, targets)\n",
    "    model.zero_grad()\n",
    "    loss.backward()\n",
    "    optimizer.step()\n",
    "    \n",
    "    total_loss += loss\n",
    "    if i % 50 == 0 and i > 0:\n",
    "        print(total_loss.data[0] / 50)\n",
    "        total_loss = 0.0\n",
    "    \n",
    "    if i % 100 == 0 and i > 0:\n",
    "        gen_words = generate2(model, corpus.words)\n",
    "        print(''.join(gen_words))"
   ]
  },
  {
   "cell_type": "code",
   "execution_count": null,
   "metadata": {
    "collapsed": true
   },
   "outputs": [],
   "source": []
  },
  {
   "cell_type": "code",
   "execution_count": null,
   "metadata": {
    "collapsed": true
   },
   "outputs": [],
   "source": []
  }
 ],
 "metadata": {
  "kernelspec": {
   "display_name": "Python 3",
   "language": "python",
   "name": "python3"
  },
  "language_info": {
   "codemirror_mode": {
    "name": "ipython",
    "version": 3
   },
   "file_extension": ".py",
   "mimetype": "text/x-python",
   "name": "python",
   "nbconvert_exporter": "python",
   "pygments_lexer": "ipython3",
   "version": "3.6.3"
  }
 },
 "nbformat": 4,
 "nbformat_minor": 2
}
