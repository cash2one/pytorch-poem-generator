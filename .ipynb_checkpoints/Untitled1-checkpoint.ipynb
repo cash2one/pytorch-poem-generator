{
 "cells": [
  {
   "cell_type": "code",
   "execution_count": 43,
   "metadata": {
    "collapsed": true
   },
   "outputs": [],
   "source": [
    "import sys\n",
    "import os\n",
    "import json\n",
    "import re"
   ]
  },
  {
   "cell_type": "code",
   "execution_count": 44,
   "metadata": {
    "collapsed": true
   },
   "outputs": [],
   "source": [
    "def parseRawData(author = None, constrain = None):\n",
    "    rst = []\n",
    "\n",
    "    def sentenceParse(para):\n",
    "        # para = \"-181-村橋路不端，數里就迴湍。積壤連涇脉，高林上笋竿。早嘗甘蔗淡，生摘琵琶酸。（「琵琶」，嚴壽澄校《張祜詩集》云：疑「枇杷」之誤。）好是去塵俗，煙花長一欄。\"\n",
    "        result, number = re.subn(\"（.*）\", \"\", para)\n",
    "        result, number = re.subn(\"（.*）\", \"\", para)\n",
    "        result, number = re.subn(\"{.*}\", \"\", result)\n",
    "        result, number = re.subn(\"《.*》\", \"\", result)\n",
    "        result, number = re.subn(\"《.*》\", \"\", result)\n",
    "        result, number = re.subn(\"[\\]\\[]\", \"\", result)\n",
    "        r = \"\"\n",
    "        for s in result:\n",
    "            if s not in ['0', '1', '2', '3', '4', '5', '6', '7', '8', '9', '-']:\n",
    "                r += s;\n",
    "        r, number = re.subn(\"。。\", \"。\", r)\n",
    "        return r\n",
    "\n",
    "    def handleJson(file):\n",
    "        # print file\n",
    "        rst = []\n",
    "        data = json.loads(open(file, 'r', encoding='utf-8').read())\n",
    "        for poetry in data:\n",
    "            pdata = \"\"\n",
    "            if (author!=None and poetry.get(\"author\")!=author):\n",
    "                continue\n",
    "            p = poetry.get(\"paragraphs\")\n",
    "            flag = False\n",
    "            for s in p:\n",
    "                sp = re.split(\"[，！。]\", s)\n",
    "                for tr in sp:\n",
    "                    if constrain != None and len(tr) != constrain and len(tr)!=0:\n",
    "                        flag = True\n",
    "                        break\n",
    "                    if flag:\n",
    "                        break\n",
    "            if flag:\n",
    "                continue\n",
    "            for sentence in poetry.get(\"paragraphs\"):\n",
    "                pdata += sentence\n",
    "            pdata = sentenceParse(pdata)\n",
    "            if pdata!=\"\":\n",
    "                rst.append(pdata)\n",
    "        return rst\n",
    "    # print sentenceParse(\"\")\n",
    "    data = []\n",
    "    src = 'data/json/'\n",
    "    for filename in os.listdir(src):\n",
    "        if filename.startswith(\"poet.tang\"):\n",
    "            data.extend(handleJson(src+filename))\n",
    "    return data"
   ]
  },
  {
   "cell_type": "code",
   "execution_count": 45,
   "metadata": {
    "collapsed": true
   },
   "outputs": [],
   "source": [
    "data = parseRawData()"
   ]
  },
  {
   "cell_type": "code",
   "execution_count": 46,
   "metadata": {},
   "outputs": [
    {
     "data": {
      "text/plain": [
       "57580"
      ]
     },
     "execution_count": 46,
     "metadata": {},
     "output_type": "execute_result"
    }
   ],
   "source": [
    "len(data)"
   ]
  },
  {
   "cell_type": "code",
   "execution_count": null,
   "metadata": {},
   "outputs": [
    {
     "name": "stderr",
     "output_type": "stream",
     "text": [
      "IOPub data rate exceeded.\n",
      "The notebook server will temporarily stop sending output\n",
      "to the client in order to avoid crashing it.\n",
      "To change this limit, set the config variable\n",
      "`--NotebookApp.iopub_data_rate_limit`.\n"
     ]
    }
   ],
   "source": [
    "for s in data:\n",
    "    print(data)"
   ]
  },
  {
   "cell_type": "code",
   "execution_count": 15,
   "metadata": {
    "collapsed": true,
    "scrolled": false
   },
   "outputs": [],
   "source": [
    "word_to_ix = {}\n",
    "\n",
    "for sent in data:\n",
    "    for word in sent:\n",
    "        if word not in word_to_ix:\n",
    "            word_to_ix[word] = len(word_to_ix)\n",
    "word_to_ix['<EOP>'] = len(word_to_ix)\n",
    "word_to_ix['<START>'] = len(word_to_ix)"
   ]
  },
  {
   "cell_type": "code",
   "execution_count": 18,
   "metadata": {},
   "outputs": [
    {
     "data": {
      "text/plain": [
       "8549"
      ]
     },
     "execution_count": 18,
     "metadata": {},
     "output_type": "execute_result"
    }
   ],
   "source": [
    "len(word_to_ix)"
   ]
  },
  {
   "cell_type": "code",
   "execution_count": 20,
   "metadata": {
    "collapsed": true
   },
   "outputs": [],
   "source": [
    "for i in range(len(data)):\n",
    "    data[i] = toList(data[i])\n",
    "    data[i].append(\"<EOP>\")"
   ]
  },
  {
   "cell_type": "code",
   "execution_count": 19,
   "metadata": {
    "collapsed": true
   },
   "outputs": [],
   "source": [
    "def toList(sen):\n",
    "    rst = []\n",
    "    for s in sen:\n",
    "        rst.append(s)\n",
    "    return rst"
   ]
  },
  {
   "cell_type": "code",
   "execution_count": 32,
   "metadata": {},
   "outputs": [
    {
     "name": "stdout",
     "output_type": "stream",
     "text": [
      "['城', '營', '內', '，', '燕', '鴿', '忽', '離', '城', '。', '定', '有', '火', '災', '兼', '禍', '起', '，', '軍', '中', '行', '尅', '事', '叮', '嚀', '，', '禳', '厭', '始', '安', '平', '。', '<EOP>']\n"
     ]
    }
   ],
   "source": [
    "import random\n",
    "print(random.choice(data))"
   ]
  },
  {
   "cell_type": "code",
   "execution_count": 33,
   "metadata": {
    "collapsed": true
   },
   "outputs": [],
   "source": [
    "TRAINSIZE = len(data)"
   ]
  },
  {
   "cell_type": "code",
   "execution_count": 39,
   "metadata": {
    "scrolled": true
   },
   "outputs": [
    {
     "name": "stdout",
     "output_type": "stream",
     "text": [
      "['禮', '物', '斯', '具', '，', '樂', '章', '乃', '陳', '。', '誰', '其', '作', '主', '，', '皇', '考', '聖', '真', '。', '對', '越', '在', '天', '，', '聖', '明', '佐', '神', '。', '窅', '然', '汾', '上', '，', '厚', '澤', '如', '春', '。', '<EOP>']\n"
     ]
    }
   ],
   "source": [
    "s = data[10]\n",
    "print(s)"
   ]
  },
  {
   "cell_type": "code",
   "execution_count": 40,
   "metadata": {
    "collapsed": true
   },
   "outputs": [],
   "source": [
    "t_in, t_out = [], []\n",
    "for i in range(1, len(s)):\n",
    "    t_in.append(s[i-1])\n",
    "    t_out.append(s[i])"
   ]
  },
  {
   "cell_type": "code",
   "execution_count": 41,
   "metadata": {},
   "outputs": [
    {
     "data": {
      "text/plain": [
       "['禮',\n",
       " '物',\n",
       " '斯',\n",
       " '具',\n",
       " '，',\n",
       " '樂',\n",
       " '章',\n",
       " '乃',\n",
       " '陳',\n",
       " '。',\n",
       " '誰',\n",
       " '其',\n",
       " '作',\n",
       " '主',\n",
       " '，',\n",
       " '皇',\n",
       " '考',\n",
       " '聖',\n",
       " '真',\n",
       " '。',\n",
       " '對',\n",
       " '越',\n",
       " '在',\n",
       " '天',\n",
       " '，',\n",
       " '聖',\n",
       " '明',\n",
       " '佐',\n",
       " '神',\n",
       " '。',\n",
       " '窅',\n",
       " '然',\n",
       " '汾',\n",
       " '上',\n",
       " '，',\n",
       " '厚',\n",
       " '澤',\n",
       " '如',\n",
       " '春',\n",
       " '。']"
      ]
     },
     "execution_count": 41,
     "metadata": {},
     "output_type": "execute_result"
    }
   ],
   "source": [
    "t_in"
   ]
  },
  {
   "cell_type": "code",
   "execution_count": 42,
   "metadata": {},
   "outputs": [
    {
     "data": {
      "text/plain": [
       "['物',\n",
       " '斯',\n",
       " '具',\n",
       " '，',\n",
       " '樂',\n",
       " '章',\n",
       " '乃',\n",
       " '陳',\n",
       " '。',\n",
       " '誰',\n",
       " '其',\n",
       " '作',\n",
       " '主',\n",
       " '，',\n",
       " '皇',\n",
       " '考',\n",
       " '聖',\n",
       " '真',\n",
       " '。',\n",
       " '對',\n",
       " '越',\n",
       " '在',\n",
       " '天',\n",
       " '，',\n",
       " '聖',\n",
       " '明',\n",
       " '佐',\n",
       " '神',\n",
       " '。',\n",
       " '窅',\n",
       " '然',\n",
       " '汾',\n",
       " '上',\n",
       " '，',\n",
       " '厚',\n",
       " '澤',\n",
       " '如',\n",
       " '春',\n",
       " '。',\n",
       " '<EOP>']"
      ]
     },
     "execution_count": 42,
     "metadata": {},
     "output_type": "execute_result"
    }
   ],
   "source": [
    "t_out"
   ]
  },
  {
   "cell_type": "code",
   "execution_count": null,
   "metadata": {
    "collapsed": true
   },
   "outputs": [],
   "source": []
  }
 ],
 "metadata": {
  "kernelspec": {
   "display_name": "Python 3",
   "language": "python",
   "name": "python3"
  },
  "language_info": {
   "codemirror_mode": {
    "name": "ipython",
    "version": 3
   },
   "file_extension": ".py",
   "mimetype": "text/x-python",
   "name": "python",
   "nbconvert_exporter": "python",
   "pygments_lexer": "ipython3",
   "version": "3.6.3"
  }
 },
 "nbformat": 4,
 "nbformat_minor": 2
}
